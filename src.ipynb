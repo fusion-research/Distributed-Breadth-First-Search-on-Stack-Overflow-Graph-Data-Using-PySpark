{
 "cells": [
  {
   "cell_type": "markdown",
   "metadata": {},
   "source": [
    "# Installing Netwokx Library"
   ]
  },
  {
   "cell_type": "code",
   "execution_count": 1,
   "metadata": {},
   "outputs": [
    {
     "name": "stdout",
     "output_type": "stream",
     "text": [
      "Requirement already satisfied: networkx in /opt/conda/lib/python3.6/site-packages\n",
      "Requirement already satisfied: decorator>=4.1.0 in /opt/conda/lib/python3.6/site-packages (from networkx)\n"
     ]
    }
   ],
   "source": [
    "# Execute this once, the first time you run\n",
    "!pip install networkx\n",
    "\n",
    "# Disable Python warning messages - you should probably only run this before submission\n",
    "\n",
    "import warnings\n",
    "warnings.filterwarnings('ignore')"
   ]
  },
  {
   "cell_type": "markdown",
   "metadata": {},
   "source": [
    "# Spark Setup"
   ]
  },
  {
   "cell_type": "code",
   "execution_count": 2,
   "metadata": {
    "collapsed": true
   },
   "outputs": [],
   "source": [
    "Connect to Spark \n",
    "from pyspark.sql import SparkSession\n",
    "from pyspark.sql.types import *\n",
    "import pyspark.sql.functions as F\n",
    "\n",
    "spark = SparkSession.builder.appName('Graphs').getOrCreate()"
   ]
  },
  {
   "cell_type": "markdown",
   "metadata": {},
   "source": [
    "# Loading Data"
   ]
  },
  {
   "cell_type": "code",
   "execution_count": 4,
   "metadata": {
    "collapsed": true
   },
   "outputs": [],
   "source": [
    "# Load data \n",
    "\n",
    "answers_sdf = spark.read.load('sx-stackoverflow-a2q.txt', format=\"text\") \n",
    "\n",
    "comments_answers_sdf = spark.read.load('sx-stackoverflow-c2a.txt', format=\"text\")\n",
    "\n",
    "comments_questions_sdf = spark.read.load('sx-stackoverflow-c2q.txt', format=\"text\")\n"
   ]
  },
  {
   "cell_type": "code",
   "execution_count": 6,
   "metadata": {},
   "outputs": [
    {
     "data": {
      "text/plain": [
       "17823525"
      ]
     },
     "execution_count": 6,
     "metadata": {},
     "output_type": "execute_result"
    }
   ],
   "source": [
    "answers_sdf.count()"
   ]
  },
  {
   "cell_type": "code",
   "execution_count": 7,
   "metadata": {},
   "outputs": [
    {
     "name": "stdout",
     "output_type": "stream",
     "text": [
      "+----------------+\n",
      "|           value|\n",
      "+----------------+\n",
      "|  9 8 1217567877|\n",
      "|  1 1 1217573801|\n",
      "| 13 1 1217606247|\n",
      "| 17 1 1217617639|\n",
      "| 48 2 1217618182|\n",
      "| 17 1 1217618239|\n",
      "| 19 9 1217618357|\n",
      "|13 23 1217618560|\n",
      "|13 11 1217618799|\n",
      "|23 23 1217619360|\n",
      "+----------------+\n",
      "only showing top 10 rows\n",
      "\n"
     ]
    }
   ],
   "source": [
    "answers_sdf.show(10)"
   ]
  },
  {
   "cell_type": "code",
   "execution_count": 8,
   "metadata": {},
   "outputs": [
    {
     "name": "stdout",
     "output_type": "stream",
     "text": [
      "root\n",
      " |-- value: string (nullable = true)\n",
      "\n"
     ]
    }
   ],
   "source": [
    "answers_sdf.printSchema()"
   ]
  },
  {
   "cell_type": "code",
   "execution_count": 9,
   "metadata": {},
   "outputs": [
    {
     "data": {
      "text/plain": [
       "25405374"
      ]
     },
     "execution_count": 9,
     "metadata": {},
     "output_type": "execute_result"
    }
   ],
   "source": [
    "comments_answers_sdf.count()"
   ]
  },
  {
   "cell_type": "code",
   "execution_count": 10,
   "metadata": {},
   "outputs": [
    {
     "name": "stdout",
     "output_type": "stream",
     "text": [
      "+--------------------+\n",
      "|               value|\n",
      "+--------------------+\n",
      "|     1 91 1220713630|\n",
      "|     3 91 1220713792|\n",
      "|  380 350 1220715736|\n",
      "|4642 2257 1220734307|\n",
      "|4642 1324220 1220...|\n",
      "|2495 4285 1220736640|\n",
      "|4642 4893 1220737355|\n",
      "|2515 4903 1220738560|\n",
      "|2515 4893 1220739071|\n",
      "|  199 199 1220741079|\n",
      "+--------------------+\n",
      "only showing top 10 rows\n",
      "\n"
     ]
    }
   ],
   "source": [
    "comments_answers_sdf.show(10)"
   ]
  },
  {
   "cell_type": "code",
   "execution_count": 11,
   "metadata": {},
   "outputs": [
    {
     "name": "stdout",
     "output_type": "stream",
     "text": [
      "root\n",
      " |-- value: string (nullable = true)\n",
      "\n"
     ]
    }
   ],
   "source": [
    "comments_answers_sdf.printSchema()"
   ]
  },
  {
   "cell_type": "code",
   "execution_count": 12,
   "metadata": {},
   "outputs": [
    {
     "data": {
      "text/plain": [
       "20268151"
      ]
     },
     "execution_count": 12,
     "metadata": {},
     "output_type": "execute_result"
    }
   ],
   "source": [
    "comments_questions_sdf.count()"
   ]
  },
  {
   "cell_type": "code",
   "execution_count": 13,
   "metadata": {},
   "outputs": [
    {
     "name": "stdout",
     "output_type": "stream",
     "text": [
      "+--------------------+\n",
      "|               value|\n",
      "+--------------------+\n",
      "|4550 4550 1220729190|\n",
      "|  242 184 1220733503|\n",
      "|4213 4946 1220768149|\n",
      "|    91 91 1220768295|\n",
      "|2658 1874 1220771891|\n",
      "|4035 1874 1220773037|\n",
      "|2257 4489 1220802041|\n",
      "|  577 577 1220834891|\n",
      "|4489 4489 1220853536|\n",
      "| 828 2783 1220854143|\n",
      "+--------------------+\n",
      "only showing top 10 rows\n",
      "\n"
     ]
    }
   ],
   "source": [
    "comments_questions_sdf.show(10)"
   ]
  },
  {
   "cell_type": "code",
   "execution_count": 14,
   "metadata": {},
   "outputs": [
    {
     "name": "stdout",
     "output_type": "stream",
     "text": [
      "root\n",
      " |-- value: string (nullable = true)\n",
      "\n"
     ]
    }
   ],
   "source": [
    "comments_questions_sdf.printSchema()"
   ]
  },
  {
   "cell_type": "markdown",
   "metadata": {},
   "source": [
    "# Data Wrangling"
   ]
  },
  {
   "cell_type": "code",
   "execution_count": 15,
   "metadata": {
    "collapsed": true
   },
   "outputs": [],
   "source": [
    "from pyspark.sql import functions as F\n",
    "\n",
    "answers_sdf.createOrReplaceTempView('answers_sdf_view')\n",
    "\n",
    "answers_sdf = spark.sql('SELECT CAST(split(value, \" \")[0] AS int) AS from_node, CAST(split(value, \" \")[1] AS int) AS to_node, \"answer\" AS edge_type FROM answers_sdf_view ')\n",
    "\n",
    "comments_answers_sdf.createOrReplaceTempView('comments_answers_sdf_view')\n",
    "\n",
    "comments_answers_sdf = spark.sql('SELECT CAST(split(value, \" \")[0] AS int) AS from_node, CAST(split(value, \" \")[1] AS int) AS to_node, \"comment-on-answer\" AS edge_type FROM comments_answers_sdf_view ')\n",
    "\n",
    "comments_questions_sdf.createOrReplaceTempView('comments_questions_sdf_view')\n",
    "\n",
    "comments_questions_sdf = spark.sql('SELECT CAST(split(value, \" \")[0] AS int) AS from_node, CAST(split(value, \" \")[1] AS int) AS to_node, \"comment-on-question\" AS edge_type FROM comments_questions_sdf_view ')\n"
   ]
  },
  {
   "cell_type": "code",
   "execution_count": 16,
   "metadata": {
    "collapsed": true
   },
   "outputs": [],
   "source": [
    "answers_sdf.createOrReplaceTempView('answers_sdf_view')\n",
    "comments_answers_sdf.createOrReplaceTempView('comments_answers_sdf_view')\n",
    "comments_questions_sdf.createOrReplaceTempView('comments_questions_sdf_view')\n",
    "\n",
    "A_sdf = answers_sdf.unionAll(comments_questions_sdf)\n",
    "graph_sdf = A_sdf.unionAll(comments_answers_sdf)"
   ]
  },
  {
   "cell_type": "code",
   "execution_count": 17,
   "metadata": {},
   "outputs": [
    {
     "data": {
      "text/plain": [
       "17823525"
      ]
     },
     "execution_count": 17,
     "metadata": {},
     "output_type": "execute_result"
    }
   ],
   "source": [
    "answers_sdf.count()"
   ]
  },
  {
   "cell_type": "code",
   "execution_count": 18,
   "metadata": {},
   "outputs": [
    {
     "name": "stdout",
     "output_type": "stream",
     "text": [
      "+---------+-------+---------+\n",
      "|from_node|to_node|edge_type|\n",
      "+---------+-------+---------+\n",
      "|        9|      8|   answer|\n",
      "|        1|      1|   answer|\n",
      "|       13|      1|   answer|\n",
      "|       17|      1|   answer|\n",
      "|       48|      2|   answer|\n",
      "+---------+-------+---------+\n",
      "only showing top 5 rows\n",
      "\n"
     ]
    }
   ],
   "source": [
    "answers_sdf.show(5)"
   ]
  },
  {
   "cell_type": "code",
   "execution_count": 19,
   "metadata": {},
   "outputs": [
    {
     "name": "stdout",
     "output_type": "stream",
     "text": [
      "root\n",
      " |-- from_node: integer (nullable = true)\n",
      " |-- to_node: integer (nullable = true)\n",
      " |-- edge_type: string (nullable = false)\n",
      "\n"
     ]
    }
   ],
   "source": [
    "answers_sdf.printSchema()"
   ]
  },
  {
   "cell_type": "code",
   "execution_count": 20,
   "metadata": {},
   "outputs": [
    {
     "data": {
      "text/plain": [
       "25405374"
      ]
     },
     "execution_count": 20,
     "metadata": {},
     "output_type": "execute_result"
    }
   ],
   "source": [
    "comments_answers_sdf.count()"
   ]
  },
  {
   "cell_type": "code",
   "execution_count": 21,
   "metadata": {},
   "outputs": [
    {
     "name": "stdout",
     "output_type": "stream",
     "text": [
      "+---------+-------+-----------------+\n",
      "|from_node|to_node|        edge_type|\n",
      "+---------+-------+-----------------+\n",
      "|        1|     91|comment-on-answer|\n",
      "|        3|     91|comment-on-answer|\n",
      "|      380|    350|comment-on-answer|\n",
      "|     4642|   2257|comment-on-answer|\n",
      "|     4642|1324220|comment-on-answer|\n",
      "+---------+-------+-----------------+\n",
      "only showing top 5 rows\n",
      "\n"
     ]
    }
   ],
   "source": [
    "comments_answers_sdf.show(5)"
   ]
  },
  {
   "cell_type": "code",
   "execution_count": 22,
   "metadata": {},
   "outputs": [
    {
     "name": "stdout",
     "output_type": "stream",
     "text": [
      "root\n",
      " |-- from_node: integer (nullable = true)\n",
      " |-- to_node: integer (nullable = true)\n",
      " |-- edge_type: string (nullable = false)\n",
      "\n"
     ]
    }
   ],
   "source": [
    "comments_answers_sdf.printSchema()"
   ]
  },
  {
   "cell_type": "code",
   "execution_count": 23,
   "metadata": {},
   "outputs": [
    {
     "data": {
      "text/plain": [
       "20268151"
      ]
     },
     "execution_count": 23,
     "metadata": {},
     "output_type": "execute_result"
    }
   ],
   "source": [
    " comments_questions_sdf.count()"
   ]
  },
  {
   "cell_type": "code",
   "execution_count": 24,
   "metadata": {},
   "outputs": [
    {
     "name": "stdout",
     "output_type": "stream",
     "text": [
      "+---------+-------+-------------------+\n",
      "|from_node|to_node|          edge_type|\n",
      "+---------+-------+-------------------+\n",
      "|     4550|   4550|comment-on-question|\n",
      "|      242|    184|comment-on-question|\n",
      "|     4213|   4946|comment-on-question|\n",
      "|       91|     91|comment-on-question|\n",
      "|     2658|   1874|comment-on-question|\n",
      "+---------+-------+-------------------+\n",
      "only showing top 5 rows\n",
      "\n"
     ]
    }
   ],
   "source": [
    "comments_questions_sdf.show(5)"
   ]
  },
  {
   "cell_type": "code",
   "execution_count": 25,
   "metadata": {},
   "outputs": [
    {
     "name": "stdout",
     "output_type": "stream",
     "text": [
      "root\n",
      " |-- from_node: integer (nullable = true)\n",
      " |-- to_node: integer (nullable = true)\n",
      " |-- edge_type: string (nullable = false)\n",
      "\n"
     ]
    }
   ],
   "source": [
    "comments_questions_sdf.printSchema()"
   ]
  },
  {
   "cell_type": "code",
   "execution_count": 26,
   "metadata": {},
   "outputs": [
    {
     "data": {
      "text/plain": [
       "63497050"
      ]
     },
     "execution_count": 26,
     "metadata": {},
     "output_type": "execute_result"
    }
   ],
   "source": [
    "graph_sdf.count()"
   ]
  },
  {
   "cell_type": "code",
   "execution_count": 27,
   "metadata": {},
   "outputs": [
    {
     "name": "stdout",
     "output_type": "stream",
     "text": [
      "+---------+-------+---------+\n",
      "|from_node|to_node|edge_type|\n",
      "+---------+-------+---------+\n",
      "|        9|      8|   answer|\n",
      "|        1|      1|   answer|\n",
      "|       13|      1|   answer|\n",
      "|       17|      1|   answer|\n",
      "|       48|      2|   answer|\n",
      "+---------+-------+---------+\n",
      "only showing top 5 rows\n",
      "\n"
     ]
    }
   ],
   "source": [
    "graph_sdf.show(5)"
   ]
  },
  {
   "cell_type": "code",
   "execution_count": 28,
   "metadata": {},
   "outputs": [
    {
     "name": "stdout",
     "output_type": "stream",
     "text": [
      "root\n",
      " |-- from_node: integer (nullable = true)\n",
      " |-- to_node: integer (nullable = true)\n",
      " |-- edge_type: string (nullable = false)\n",
      "\n"
     ]
    }
   ],
   "source": [
    "graph_sdf.printSchema()"
   ]
  },
  {
   "cell_type": "code",
   "execution_count": 29,
   "metadata": {},
   "outputs": [
    {
     "name": "stdout",
     "output_type": "stream",
     "text": [
      "+---------+-----+\n",
      "|from_node|count|\n",
      "+---------+-----+\n",
      "|    22656|32030|\n",
      "|  1144035|25146|\n",
      "|    29407|20842|\n",
      "|   548225|16944|\n",
      "|   157882|16615|\n",
      "|   115145|16515|\n",
      "|    17034|15437|\n",
      "|   100297|15020|\n",
      "|     6309|14291|\n",
      "|    34397|14033|\n",
      "+---------+-----+\n",
      "only showing top 10 rows\n",
      "\n"
     ]
    }
   ],
   "source": [
    "a_sdf = answers_sdf.groupBy('from_node').count()\n",
    "\n",
    "a_sdf = a_sdf.orderBy('count', ascending=False)\n",
    "\n",
    "a_sdf.show(10)"
   ]
  },
  {
   "cell_type": "code",
   "execution_count": 30,
   "metadata": {},
   "outputs": [
    {
     "name": "stdout",
     "output_type": "stream",
     "text": [
      "+---------+-----+\n",
      "|from_node|count|\n",
      "+---------+-----+\n",
      "|    22656|22860|\n",
      "|  1144035|21032|\n",
      "|   548225|14127|\n",
      "|    29407|13043|\n",
      "|   115145|12243|\n",
      "|    19068|12114|\n",
      "|   100297|11486|\n",
      "|    34397|11368|\n",
      "|    17034|11347|\n",
      "|     6309|11057|\n",
      "+---------+-----+\n",
      "only showing top 10 rows\n",
      "\n"
     ]
    }
   ],
   "source": [
    "b_sdf = answers_sdf.dropDuplicates()\n",
    "\n",
    "b_sdf = b_sdf.groupBy('from_node').count()\n",
    "\n",
    "b_sdf = b_sdf.orderBy('count', ascending=False)\n",
    "\n",
    "b_sdf.show(10)"
   ]
  },
  {
   "cell_type": "markdown",
   "metadata": {},
   "source": [
    "# Top 10 users by number of questions"
   ]
  },
  {
   "cell_type": "code",
   "execution_count": 31,
   "metadata": {},
   "outputs": [
    {
     "name": "stdout",
     "output_type": "stream",
     "text": [
      "+---------+-----+\n",
      "|from_node|count|\n",
      "+---------+-----+\n",
      "|    22656|32030|\n",
      "|  1144035|25146|\n",
      "|    29407|20842|\n",
      "|   548225|16944|\n",
      "|   157882|16615|\n",
      "|   115145|16515|\n",
      "|    17034|15437|\n",
      "|   100297|15020|\n",
      "|     6309|14291|\n",
      "|    34397|14033|\n",
      "+---------+-----+\n",
      "only showing top 10 rows\n",
      "\n"
     ]
    }
   ],
   "source": [
    "a_sdf.show(10)\n"
   ]
  },
  {
   "cell_type": "markdown",
   "metadata": {},
   "source": [
    "# Top 10 users by number of answers to questions by distinct users"
   ]
  },
  {
   "cell_type": "code",
   "execution_count": 32,
   "metadata": {},
   "outputs": [
    {
     "name": "stdout",
     "output_type": "stream",
     "text": [
      "+---------+-----+\n",
      "|from_node|count|\n",
      "+---------+-----+\n",
      "|    22656|22860|\n",
      "|  1144035|21032|\n",
      "|   548225|14127|\n",
      "|    29407|13043|\n",
      "|   115145|12243|\n",
      "|    19068|12114|\n",
      "|   100297|11486|\n",
      "|    34397|11368|\n",
      "|    17034|11347|\n",
      "|     6309|11057|\n",
      "+---------+-----+\n",
      "only showing top 10 rows\n",
      "\n"
     ]
    }
   ],
   "source": [
    "b_sdf.show(10)"
   ]
  },
  {
   "cell_type": "markdown",
   "metadata": {},
   "source": [
    "# Number of users whose questions have never been answered or commented on"
   ]
  },
  {
   "cell_type": "code",
   "execution_count": 33,
   "metadata": {},
   "outputs": [
    {
     "data": {
      "text/plain": [
       "150681"
      ]
     },
     "execution_count": 33,
     "metadata": {},
     "output_type": "execute_result"
    }
   ],
   "source": [
    "A_sdf = comments_questions_sdf.select('to_node').subtract(answers_sdf.select('to_node'))\n",
    "A_sdf.count()"
   ]
  },
  {
   "cell_type": "markdown",
   "metadata": {},
   "source": [
    "# Top 10 pairs of users by mutual answers, along with the number of questions they have mutually answered"
   ]
  },
  {
   "cell_type": "code",
   "execution_count": 34,
   "metadata": {},
   "outputs": [
    {
     "name": "stdout",
     "output_type": "stream",
     "text": [
      "+---------+-------+-----+\n",
      "|from_node|to_node|count|\n",
      "+---------+-------+-----+\n",
      "|   315935| 742402|  155|\n",
      "|   217408|2258442|  105|\n",
      "|     6309| 399145|   81|\n",
      "|   157882|1391249|   78|\n",
      "|   157882| 240337|   76|\n",
      "|     6309| 470184|   76|\n",
      "|    91299| 167454|   73|\n",
      "|   505088|  46207|   72|\n",
      "|   505088| 988445|   69|\n",
      "|    15168| 366797|   63|\n",
      "+---------+-------+-----+\n",
      "only showing top 10 rows\n",
      "\n"
     ]
    }
   ],
   "source": [
    "B_sdf = answers_sdf.select(answers_sdf.from_node, F.when(answers_sdf.from_node != answers_sdf.to_node,answers_sdf.to_node).alias('to_node')).dropna()\n",
    "B_sdf = B_sdf.groupBy('from_node','to_node').count().sort('count',ascending = False)\n",
    "B_sdf.show(10)"
   ]
  },
  {
   "cell_type": "code",
   "execution_count": 35,
   "metadata": {
    "collapsed": true
   },
   "outputs": [],
   "source": [
    "highest_indegree_sdf = graph_sdf.groupBy('to_node').count()\n",
    "highest_indegree_sdf = highest_indegree_sdf.orderBy('count', ascending=False)\n",
    "highest_indegree_sdf = highest_indegree_sdf.withColumnRenamed('to_node','node')\n",
    "highest_indegree_sdf = highest_indegree_sdf.withColumnRenamed('count','indegree')\n",
    "\n",
    "highest_outdegree_sdf = graph_sdf.groupBy('from_node').count()\n",
    "highest_outdegree_sdf = highest_outdegree_sdf.orderBy('count', ascending=False)\n",
    "highest_outdegree_sdf = highest_outdegree_sdf.withColumnRenamed('from_node','node')\n",
    "highest_outdegree_sdf = highest_outdegree_sdf.withColumnRenamed('count','outdegree')"
   ]
  },
  {
   "cell_type": "markdown",
   "metadata": {},
   "source": [
    "# Indegree Graph Centrality"
   ]
  },
  {
   "cell_type": "code",
   "execution_count": 36,
   "metadata": {},
   "outputs": [
    {
     "name": "stdout",
     "output_type": "stream",
     "text": [
      "+-------+--------+\n",
      "|   node|indegree|\n",
      "+-------+--------+\n",
      "|  22656|   93143|\n",
      "| 548225|   54410|\n",
      "|  29407|   45824|\n",
      "| 157882|   39576|\n",
      "|1144035|   38909|\n",
      "+-------+--------+\n",
      "only showing top 5 rows\n",
      "\n"
     ]
    }
   ],
   "source": [
    "highest_indegree_sdf.show(5)"
   ]
  },
  {
   "cell_type": "markdown",
   "metadata": {},
   "source": [
    "# Indegree Graph Centrality"
   ]
  },
  {
   "cell_type": "code",
   "execution_count": 37,
   "metadata": {},
   "outputs": [
    {
     "name": "stdout",
     "output_type": "stream",
     "text": [
      "+-------+---------+\n",
      "|   node|outdegree|\n",
      "+-------+---------+\n",
      "|  22656|   101663|\n",
      "| 505088|    65522|\n",
      "|  17034|    65260|\n",
      "|1491895|    62746|\n",
      "| 100297|    54330|\n",
      "+-------+---------+\n",
      "only showing top 5 rows\n",
      "\n"
     ]
    }
   ],
   "source": [
    "highest_outdegree_sdf.show(5)"
   ]
  },
  {
   "cell_type": "markdown",
   "metadata": {},
   "source": [
    "# Distributed BFS"
   ]
  },
  {
   "cell_type": "code",
   "execution_count": 39,
   "metadata": {
    "collapsed": true
   },
   "outputs": [],
   "source": [
    "def spark_bfs(G, origins, max_depth):    \n",
    "    \n",
    "    \n",
    "    schema = StructType([\n",
    "\n",
    "            StructField(\"node\", IntegerType(), True)\n",
    "\n",
    "        ])\n",
    "    \n",
    "    \n",
    "    # These are the Node origins \n",
    "    frontier_nodes_sdf = spark.createDataFrame(origins,schema)\n",
    "    \n",
    "    G = G.cache()\n",
    "    frontier_nodes_sdf.cache()\n",
    "    \n",
    "    \n",
    "    for i in range(max_depth):\n",
    "        reachable_nodes_sdf = G.join(frontier_nodes_sdf, G.from_node == frontier_nodes_sdf.node).select(G.to_node)\n",
    "        \n",
    "        if (i == 0):\n",
    "            visited_nodes_sdf = frontier_nodes_sdf\n",
    "            final_sdf = visited_nodes_sdf.withColumn(\"Depth\", F.lit(i))\n",
    "    \n",
    "        \n",
    "        \n",
    "        G = G.join(frontier_nodes_sdf, G.from_node == frontier_nodes_sdf.node, 'leftanti')\n",
    "        G = G.join(frontier_nodes_sdf, G.to_node == frontier_nodes_sdf.node, 'leftanti')\n",
    "\n",
    "        frontier_nodes_sdf = reachable_nodes_sdf\n",
    "        \n",
    "        frontier_nodes_sdf = frontier_nodes_sdf.distinct().withColumnRenamed(\"to_node\",\"node\")\n",
    "\n",
    "        reached_sdf = reachable_nodes_sdf.join(visited_nodes_sdf, reachable_nodes_sdf.to_node == visited_nodes_sdf.node, 'leftanti')\n",
    "        \n",
    "        \n",
    "        visited_nodes_sdf = visited_nodes_sdf.unionAll(frontier_nodes_sdf)\n",
    "        final_sdf = final_sdf.unionAll(reached_sdf.withColumn(\"Depth\", F.lit(i+1)))\n",
    "        \n",
    "        \n",
    "\n",
    "\n",
    "        \n",
    "    G.unpersist()\n",
    "    frontier_nodes_sdf.unpersist()\n",
    "    \n",
    "    return_sdf = final_sdf\n",
    "    \n",
    "    #return_sdf = return_sdf.withColumnRenamed(\"to_node\",\"node\")\n",
    "    #return_sdf = return_sdf.withColumnRenamed(\"from_node\",\"depth\")\n",
    "    \n",
    "    #return_sdf = return_sdf.select(\"depth\",\"node\")\n",
    "    \n",
    "    return return_sdf"
   ]
  },
  {
   "cell_type": "code",
   "execution_count": 40,
   "metadata": {},
   "outputs": [
    {
     "data": {
      "text/plain": [
       "396"
      ]
     },
     "execution_count": 40,
     "metadata": {},
     "output_type": "execute_result"
    }
   ],
   "source": [
    "origin_map = [{'node': 4550}, {'node': 242}]\n",
    "bfs_sdf = spark_bfs(comments_questions_sdf, origin_map, 2)\n",
    "bfs_sdf.count()"
   ]
  },
  {
   "cell_type": "code",
   "execution_count": 90,
   "metadata": {},
   "outputs": [
    {
     "name": "stdout",
     "output_type": "stream",
     "text": [
      "+-------+-----+\n",
      "|   node|Depth|\n",
      "+-------+-----+\n",
      "|   4550|    0|\n",
      "|    242|    0|\n",
      "|    184|    1|\n",
      "|  45459|    1|\n",
      "|   1551|    1|\n",
      "|  67719|    1|\n",
      "| 451383|    1|\n",
      "|1139389|    1|\n",
      "| 633513|    1|\n",
      "| 602291|    1|\n",
      "+-------+-----+\n",
      "only showing top 10 rows\n",
      "\n"
     ]
    }
   ],
   "source": [
    "bfs_sdf.show(10)"
   ]
  },
  {
   "cell_type": "markdown",
   "metadata": {},
   "source": [
    "# Friend Recommendation"
   ]
  },
  {
   "cell_type": "code",
   "execution_count": 41,
   "metadata": {
    "collapsed": true
   },
   "outputs": [],
   "source": [
    "def friend_rec(input_sdf, graph_sdf):\n",
    "    \n",
    "    filtered_bfs_sdf = input_sdf\n",
    "    \n",
    "    filtered_bfs_sdf.cache()\n",
    "    graph_sdf.cache()\n",
    "    \n",
    "    node1 = filtered_bfs_sdf\n",
    "    node1 = node1.withColumnRenamed(\"node\",\"initial_node\")\n",
    "    \n",
    "    node2 = filtered_bfs_sdf\n",
    "    node2 = node2.withColumnRenamed(\"node\",\"end_node\")\n",
    "\n",
    "    \n",
    "    friend_recommendations_sdf = node1.join(node2, node1.initial_node != node2.end_node)\n",
    "    \n",
    "    friend_recommendations_sdf = friend_recommendations_sdf.join(graph_sdf, (friend_recommendations_sdf['initial_node'] == graph_sdf['from_node']) & (friend_recommendations_sdf['end_node'] == graph_sdf['to_node']), 'leftanti')\n",
    "    friend_recommendations_sdf = friend_recommendations_sdf.join(graph_sdf, (friend_recommendations_sdf['initial_node'] == graph_sdf['to_node']) & (friend_recommendations_sdf['end_node'] == graph_sdf['from_node']),'leftanti')\n",
    "    \n",
    "    graph_sdf.unpersist()\n",
    "    filtered_bfs_sdf.cache()\n",
    "    \n",
    "    return friend_recommendations_sdf"
   ]
  },
  {
   "cell_type": "code",
   "execution_count": 42,
   "metadata": {
    "collapsed": true
   },
   "outputs": [],
   "source": [
    "filtered_bfs_sdf = bfs_sdf.filter(bfs_sdf[\"Depth\"] > 1)\n",
    "filtered_bfs_sdf = filtered_bfs_sdf.groupBy('node').count()\n",
    "filtered_bfs_sdf = filtered_bfs_sdf.filter(filtered_bfs_sdf['count'] >1)"
   ]
  },
  {
   "cell_type": "code",
   "execution_count": 43,
   "metadata": {
    "collapsed": true
   },
   "outputs": [],
   "source": [
    "friend_recommendations_sdf = friend_rec(filtered_bfs_sdf, comments_questions_sdf)\n",
    "\n",
    "friend_recommendations_sdf = friend_recommendations_sdf.select(\"initial_node\",\"end_node\")\n",
    "friend_recommendations_sdf = friend_recommendations_sdf.withColumnRenamed(\"initial_node\",\"from_node\")\n",
    "friend_recommendations_sdf = friend_recommendations_sdf.withColumnRenamed(\"end_node\",\"to_node\")\n"
   ]
  },
  {
   "cell_type": "code",
   "execution_count": null,
   "metadata": {
    "collapsed": true
   },
   "outputs": [],
   "source": [
    "friend_recommendations_sdf.count()"
   ]
  },
  {
   "cell_type": "code",
   "execution_count": 123,
   "metadata": {},
   "outputs": [
    {
     "name": "stdout",
     "output_type": "stream",
     "text": [
      "+---------+-------+\n",
      "|from_node|to_node|\n",
      "+---------+-------+\n",
      "|      123|    456|\n",
      "|      456|    123|\n",
      "+---------+-------+\n",
      "\n"
     ]
    }
   ],
   "source": [
    "friend_recommendations_sdf.show()"
   ]
  },
  {
   "cell_type": "markdown",
   "metadata": {},
   "source": [
    "# Graph visualization"
   ]
  },
  {
   "cell_type": "code",
   "execution_count": 45,
   "metadata": {
    "collapsed": true
   },
   "outputs": [],
   "source": [
    "import networkx as nx\n",
    "\n",
    "friend_recommendations_df = friend_recommendations_sdf.toPandas()"
   ]
  },
  {
   "cell_type": "code",
   "execution_count": 51,
   "metadata": {
    "collapsed": true
   },
   "outputs": [],
   "source": [
    "friend_graph = nx.from_pandas_dataframe(friend_recommendations_df,'initial_node','end_node')"
   ]
  },
  {
   "cell_type": "code",
   "execution_count": 52,
   "metadata": {},
   "outputs": [
    {
     "name": "stdout",
     "output_type": "stream",
     "text": [
      "Number of nodes (characters) in this graph is 42\n",
      "Number of edges in this graph is 860\n",
      "Graph diameter is 2\n"
     ]
    }
   ],
   "source": [
    "print (\"Number of nodes (characters) in this graph is\", friend_graph.order()) # number of nodes\n",
    "print (\"Number of edges in this graph is\", len(friend_graph.edges())) # number of edges\n",
    "print (\"Graph diameter is\", nx.diameter(friend_graph)) # maximum eccentricity"
   ]
  },
  {
   "cell_type": "code",
   "execution_count": 53,
   "metadata": {},
   "outputs": [
    {
     "data": {
      "image/png": "[encoded data removed]",
      "text/plain": [
       "<matplotlib.figure.Figure at 0x7fcb2631b208>"
      ]
     },
     "metadata": {},
     "output_type": "display_data"
    }
   ],
   "source": [
    " %matplotlib inline\n",
    " nx.draw(friend_graph)"
   ]
  }
 ],
 "metadata": {
  "kernelspec": {
   "display_name": "Python 3",
   "language": "python",
   "name": "python3"
  },
  "language_info": {
   "codemirror_mode": {
    "name": "ipython",
    "version": 3
   },
   "file_extension": ".py",
   "mimetype": "text/x-python",
   "name": "python",
   "nbconvert_exporter": "python",
   "pygments_lexer": "ipython3",
   "version": "3.6.3"
  },
  "varInspector": {
   "cols": {
    "lenName": 16,
    "lenType": 16,
    "lenVar": 40
   },
   "kernels_config": {
    "python": {
     "delete_cmd_postfix": "",
     "delete_cmd_prefix": "del ",
     "library": "var_list.py",
     "varRefreshCmd": "print(var_dic_list())"
    },
    "r": {
     "delete_cmd_postfix": ") ",
     "delete_cmd_prefix": "rm(",
     "library": "var_list.r",
     "varRefreshCmd": "cat(var_dic_list()) "
    }
   },
   "types_to_exclude": [
    "module",
    "function",
    "builtin_function_or_method",
    "instance",
    "_Feature"
   ],
   "window_display": false
  }
 },
 "nbformat": 4,
 "nbformat_minor": 2
}
